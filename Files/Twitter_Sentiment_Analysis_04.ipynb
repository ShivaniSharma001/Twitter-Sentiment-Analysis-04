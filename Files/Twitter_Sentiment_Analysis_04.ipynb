{
  "nbformat": 4,
  "nbformat_minor": 0,
  "metadata": {
    "colab": {
      "name": "Twitter Sentiment Analysis 04",
      "provenance": [],
      "collapsed_sections": [
        "DtDxH2wb5kt8",
        "CQ6eo3kh5zMk"
      ]
    },
    "kernelspec": {
      "name": "python3",
      "display_name": "Python 3"
    },
    "language_info": {
      "name": "python"
    },
    "accelerator": "GPU"
  },
  "cells": [
    {
      "cell_type": "code",
      "metadata": {
        "id": "AgCI_FD4wTKZ"
      },
      "source": [
        "# Colab library to upload files to notebook\n",
        "from google.colab import files\n",
        "\n",
        "# Install Kaggle library\n",
        "!pip install -q kaggle"
      ],
      "execution_count": 1,
      "outputs": []
    },
    {
      "cell_type": "code",
      "metadata": {
        "id": "x5Hu7ldhwd_I"
      },
      "source": [
        "!mkdir ~/.kaggle"
      ],
      "execution_count": 2,
      "outputs": []
    },
    {
      "cell_type": "code",
      "metadata": {
        "id": "gkGxT2IpweA-"
      },
      "source": [
        "!cp /content/kaggle.json ~/.kaggle/kaggle.json"
      ],
      "execution_count": 4,
      "outputs": []
    },
    {
      "cell_type": "code",
      "metadata": {
        "id": "VYrD3EX62-rM"
      },
      "source": [
        "import os\n",
        "os.chmod(\"kaggle.json\", 600)"
      ],
      "execution_count": 5,
      "outputs": []
    },
    {
      "cell_type": "code",
      "metadata": {
        "id": "kiQK8azo2_Ny",
        "colab": {
          "base_uri": "https://localhost:8080/"
        },
        "outputId": "31928cdc-6b40-48bf-bff2-14050e43df83"
      },
      "source": [
        "# Downloading data\n",
        "!kaggle datasets download -d kazanova/sentiment140"
      ],
      "execution_count": 6,
      "outputs": [
        {
          "output_type": "stream",
          "text": [
            "Warning: Your Kaggle API key is readable by other users on this system! To fix this, you can run 'chmod 600 /root/.kaggle/kaggle.json'\n",
            "Downloading sentiment140.zip to /content\n",
            "100% 80.9M/80.9M [00:01<00:00, 37.6MB/s]\n",
            "\n"
          ],
          "name": "stdout"
        }
      ]
    },
    {
      "cell_type": "code",
      "metadata": {
        "id": "0Sg683BvweDE",
        "colab": {
          "base_uri": "https://localhost:8080/"
        },
        "outputId": "538753a1-5481-46b2-c269-ce2de4968d76"
      },
      "source": [
        "import tensorflow as tf\n",
        "import matplotlib.pyplot as plt\n",
        "import pandas as pd\n",
        "import numpy as np\n",
        "\n",
        "\n",
        "import nltk \n",
        "nltk.download('stopwords')\n",
        "from nltk.corpus import stopwords\n",
        "from nltk.stem import SnowballStemmer\n",
        "\n",
        "\n",
        "\n",
        "from sklearn.model_selection import train_test_split\n",
        "from sklearn.preprocessing import LabelEncoder\n",
        "\n",
        "\n",
        "import re\n",
        "\n",
        "print(\"Tensorflow Version\",tf.__version__)"
      ],
      "execution_count": 8,
      "outputs": [
        {
          "output_type": "stream",
          "text": [
            "[nltk_data] Downloading package stopwords to /root/nltk_data...\n",
            "[nltk_data]   Unzipping corpora/stopwords.zip.\n",
            "Tensorflow Version 2.4.1\n"
          ],
          "name": "stdout"
        }
      ]
    },
    {
      "cell_type": "code",
      "metadata": {
        "id": "x-8oFVGc3yM8",
        "colab": {
          "base_uri": "https://localhost:8080/",
          "height": 289
        },
        "outputId": "e0dbd8e3-94b4-4050-ee18-1efbc7b2b7ca"
      },
      "source": [
        "df = pd.read_csv('sentiment140.zip', compression='zip', sep=',', quotechar='\"', encoding ='latin' , header= None)\n",
        "df.head()"
      ],
      "execution_count": 9,
      "outputs": [
        {
          "output_type": "execute_result",
          "data": {
            "text/html": [
              "<div>\n",
              "<style scoped>\n",
              "    .dataframe tbody tr th:only-of-type {\n",
              "        vertical-align: middle;\n",
              "    }\n",
              "\n",
              "    .dataframe tbody tr th {\n",
              "        vertical-align: top;\n",
              "    }\n",
              "\n",
              "    .dataframe thead th {\n",
              "        text-align: right;\n",
              "    }\n",
              "</style>\n",
              "<table border=\"1\" class=\"dataframe\">\n",
              "  <thead>\n",
              "    <tr style=\"text-align: right;\">\n",
              "      <th></th>\n",
              "      <th>0</th>\n",
              "      <th>1</th>\n",
              "      <th>2</th>\n",
              "      <th>3</th>\n",
              "      <th>4</th>\n",
              "      <th>5</th>\n",
              "    </tr>\n",
              "  </thead>\n",
              "  <tbody>\n",
              "    <tr>\n",
              "      <th>0</th>\n",
              "      <td>0</td>\n",
              "      <td>1467810369</td>\n",
              "      <td>Mon Apr 06 22:19:45 PDT 2009</td>\n",
              "      <td>NO_QUERY</td>\n",
              "      <td>_TheSpecialOne_</td>\n",
              "      <td>@switchfoot http://twitpic.com/2y1zl - Awww, t...</td>\n",
              "    </tr>\n",
              "    <tr>\n",
              "      <th>1</th>\n",
              "      <td>0</td>\n",
              "      <td>1467810672</td>\n",
              "      <td>Mon Apr 06 22:19:49 PDT 2009</td>\n",
              "      <td>NO_QUERY</td>\n",
              "      <td>scotthamilton</td>\n",
              "      <td>is upset that he can't update his Facebook by ...</td>\n",
              "    </tr>\n",
              "    <tr>\n",
              "      <th>2</th>\n",
              "      <td>0</td>\n",
              "      <td>1467810917</td>\n",
              "      <td>Mon Apr 06 22:19:53 PDT 2009</td>\n",
              "      <td>NO_QUERY</td>\n",
              "      <td>mattycus</td>\n",
              "      <td>@Kenichan I dived many times for the ball. Man...</td>\n",
              "    </tr>\n",
              "    <tr>\n",
              "      <th>3</th>\n",
              "      <td>0</td>\n",
              "      <td>1467811184</td>\n",
              "      <td>Mon Apr 06 22:19:57 PDT 2009</td>\n",
              "      <td>NO_QUERY</td>\n",
              "      <td>ElleCTF</td>\n",
              "      <td>my whole body feels itchy and like its on fire</td>\n",
              "    </tr>\n",
              "    <tr>\n",
              "      <th>4</th>\n",
              "      <td>0</td>\n",
              "      <td>1467811193</td>\n",
              "      <td>Mon Apr 06 22:19:57 PDT 2009</td>\n",
              "      <td>NO_QUERY</td>\n",
              "      <td>Karoli</td>\n",
              "      <td>@nationwideclass no, it's not behaving at all....</td>\n",
              "    </tr>\n",
              "  </tbody>\n",
              "</table>\n",
              "</div>"
            ],
            "text/plain": [
              "   0  ...                                                  5\n",
              "0  0  ...  @switchfoot http://twitpic.com/2y1zl - Awww, t...\n",
              "1  0  ...  is upset that he can't update his Facebook by ...\n",
              "2  0  ...  @Kenichan I dived many times for the ball. Man...\n",
              "3  0  ...    my whole body feels itchy and like its on fire \n",
              "4  0  ...  @nationwideclass no, it's not behaving at all....\n",
              "\n",
              "[5 rows x 6 columns]"
            ]
          },
          "metadata": {
            "tags": []
          },
          "execution_count": 9
        }
      ]
    },
    {
      "cell_type": "code",
      "metadata": {
        "id": "NjkKc_py4T3i",
        "colab": {
          "base_uri": "https://localhost:8080/",
          "height": 289
        },
        "outputId": "0cb732e0-50d3-429d-e660-80d25a7c26ae"
      },
      "source": [
        "df.columns = ['sentiment', 'id', 'date', 'query', 'user_id', 'text']\n",
        "df.head()"
      ],
      "execution_count": 10,
      "outputs": [
        {
          "output_type": "execute_result",
          "data": {
            "text/html": [
              "<div>\n",
              "<style scoped>\n",
              "    .dataframe tbody tr th:only-of-type {\n",
              "        vertical-align: middle;\n",
              "    }\n",
              "\n",
              "    .dataframe tbody tr th {\n",
              "        vertical-align: top;\n",
              "    }\n",
              "\n",
              "    .dataframe thead th {\n",
              "        text-align: right;\n",
              "    }\n",
              "</style>\n",
              "<table border=\"1\" class=\"dataframe\">\n",
              "  <thead>\n",
              "    <tr style=\"text-align: right;\">\n",
              "      <th></th>\n",
              "      <th>sentiment</th>\n",
              "      <th>id</th>\n",
              "      <th>date</th>\n",
              "      <th>query</th>\n",
              "      <th>user_id</th>\n",
              "      <th>text</th>\n",
              "    </tr>\n",
              "  </thead>\n",
              "  <tbody>\n",
              "    <tr>\n",
              "      <th>0</th>\n",
              "      <td>0</td>\n",
              "      <td>1467810369</td>\n",
              "      <td>Mon Apr 06 22:19:45 PDT 2009</td>\n",
              "      <td>NO_QUERY</td>\n",
              "      <td>_TheSpecialOne_</td>\n",
              "      <td>@switchfoot http://twitpic.com/2y1zl - Awww, t...</td>\n",
              "    </tr>\n",
              "    <tr>\n",
              "      <th>1</th>\n",
              "      <td>0</td>\n",
              "      <td>1467810672</td>\n",
              "      <td>Mon Apr 06 22:19:49 PDT 2009</td>\n",
              "      <td>NO_QUERY</td>\n",
              "      <td>scotthamilton</td>\n",
              "      <td>is upset that he can't update his Facebook by ...</td>\n",
              "    </tr>\n",
              "    <tr>\n",
              "      <th>2</th>\n",
              "      <td>0</td>\n",
              "      <td>1467810917</td>\n",
              "      <td>Mon Apr 06 22:19:53 PDT 2009</td>\n",
              "      <td>NO_QUERY</td>\n",
              "      <td>mattycus</td>\n",
              "      <td>@Kenichan I dived many times for the ball. Man...</td>\n",
              "    </tr>\n",
              "    <tr>\n",
              "      <th>3</th>\n",
              "      <td>0</td>\n",
              "      <td>1467811184</td>\n",
              "      <td>Mon Apr 06 22:19:57 PDT 2009</td>\n",
              "      <td>NO_QUERY</td>\n",
              "      <td>ElleCTF</td>\n",
              "      <td>my whole body feels itchy and like its on fire</td>\n",
              "    </tr>\n",
              "    <tr>\n",
              "      <th>4</th>\n",
              "      <td>0</td>\n",
              "      <td>1467811193</td>\n",
              "      <td>Mon Apr 06 22:19:57 PDT 2009</td>\n",
              "      <td>NO_QUERY</td>\n",
              "      <td>Karoli</td>\n",
              "      <td>@nationwideclass no, it's not behaving at all....</td>\n",
              "    </tr>\n",
              "  </tbody>\n",
              "</table>\n",
              "</div>"
            ],
            "text/plain": [
              "   sentiment  ...                                               text\n",
              "0          0  ...  @switchfoot http://twitpic.com/2y1zl - Awww, t...\n",
              "1          0  ...  is upset that he can't update his Facebook by ...\n",
              "2          0  ...  @Kenichan I dived many times for the ball. Man...\n",
              "3          0  ...    my whole body feels itchy and like its on fire \n",
              "4          0  ...  @nationwideclass no, it's not behaving at all....\n",
              "\n",
              "[5 rows x 6 columns]"
            ]
          },
          "metadata": {
            "tags": []
          },
          "execution_count": 10
        }
      ]
    },
    {
      "cell_type": "code",
      "metadata": {
        "id": "AN66jfU54fQc"
      },
      "source": [
        "df = df.drop(['id', 'date', 'query', 'user_id'], axis=1)"
      ],
      "execution_count": 11,
      "outputs": []
    },
    {
      "cell_type": "code",
      "metadata": {
        "colab": {
          "base_uri": "https://localhost:8080/",
          "height": 204
        },
        "id": "bldSUbOn8rC8",
        "outputId": "35748f0f-bb7b-408e-8b90-8c25774fcbe9"
      },
      "source": [
        "df.head()"
      ],
      "execution_count": 12,
      "outputs": [
        {
          "output_type": "execute_result",
          "data": {
            "text/html": [
              "<div>\n",
              "<style scoped>\n",
              "    .dataframe tbody tr th:only-of-type {\n",
              "        vertical-align: middle;\n",
              "    }\n",
              "\n",
              "    .dataframe tbody tr th {\n",
              "        vertical-align: top;\n",
              "    }\n",
              "\n",
              "    .dataframe thead th {\n",
              "        text-align: right;\n",
              "    }\n",
              "</style>\n",
              "<table border=\"1\" class=\"dataframe\">\n",
              "  <thead>\n",
              "    <tr style=\"text-align: right;\">\n",
              "      <th></th>\n",
              "      <th>sentiment</th>\n",
              "      <th>text</th>\n",
              "    </tr>\n",
              "  </thead>\n",
              "  <tbody>\n",
              "    <tr>\n",
              "      <th>0</th>\n",
              "      <td>0</td>\n",
              "      <td>@switchfoot http://twitpic.com/2y1zl - Awww, t...</td>\n",
              "    </tr>\n",
              "    <tr>\n",
              "      <th>1</th>\n",
              "      <td>0</td>\n",
              "      <td>is upset that he can't update his Facebook by ...</td>\n",
              "    </tr>\n",
              "    <tr>\n",
              "      <th>2</th>\n",
              "      <td>0</td>\n",
              "      <td>@Kenichan I dived many times for the ball. Man...</td>\n",
              "    </tr>\n",
              "    <tr>\n",
              "      <th>3</th>\n",
              "      <td>0</td>\n",
              "      <td>my whole body feels itchy and like its on fire</td>\n",
              "    </tr>\n",
              "    <tr>\n",
              "      <th>4</th>\n",
              "      <td>0</td>\n",
              "      <td>@nationwideclass no, it's not behaving at all....</td>\n",
              "    </tr>\n",
              "  </tbody>\n",
              "</table>\n",
              "</div>"
            ],
            "text/plain": [
              "   sentiment                                               text\n",
              "0          0  @switchfoot http://twitpic.com/2y1zl - Awww, t...\n",
              "1          0  is upset that he can't update his Facebook by ...\n",
              "2          0  @Kenichan I dived many times for the ball. Man...\n",
              "3          0    my whole body feels itchy and like its on fire \n",
              "4          0  @nationwideclass no, it's not behaving at all...."
            ]
          },
          "metadata": {
            "tags": []
          },
          "execution_count": 12
        }
      ]
    },
    {
      "cell_type": "code",
      "metadata": {
        "id": "7GiszlqlweF0",
        "colab": {
          "base_uri": "https://localhost:8080/",
          "height": 204
        },
        "outputId": "f4a58650-95d7-40cc-bb34-38a37a8e13e4"
      },
      "source": [
        "lab_to_sentiment = {0:\"Negative\", 4:\"Positive\"}\n",
        "def label_decoder(label):\n",
        "  return lab_to_sentiment[label]\n",
        "df.sentiment = df.sentiment.apply(lambda x: label_decoder(x))\n",
        "df.head()"
      ],
      "execution_count": 13,
      "outputs": [
        {
          "output_type": "execute_result",
          "data": {
            "text/html": [
              "<div>\n",
              "<style scoped>\n",
              "    .dataframe tbody tr th:only-of-type {\n",
              "        vertical-align: middle;\n",
              "    }\n",
              "\n",
              "    .dataframe tbody tr th {\n",
              "        vertical-align: top;\n",
              "    }\n",
              "\n",
              "    .dataframe thead th {\n",
              "        text-align: right;\n",
              "    }\n",
              "</style>\n",
              "<table border=\"1\" class=\"dataframe\">\n",
              "  <thead>\n",
              "    <tr style=\"text-align: right;\">\n",
              "      <th></th>\n",
              "      <th>sentiment</th>\n",
              "      <th>text</th>\n",
              "    </tr>\n",
              "  </thead>\n",
              "  <tbody>\n",
              "    <tr>\n",
              "      <th>0</th>\n",
              "      <td>Negative</td>\n",
              "      <td>@switchfoot http://twitpic.com/2y1zl - Awww, t...</td>\n",
              "    </tr>\n",
              "    <tr>\n",
              "      <th>1</th>\n",
              "      <td>Negative</td>\n",
              "      <td>is upset that he can't update his Facebook by ...</td>\n",
              "    </tr>\n",
              "    <tr>\n",
              "      <th>2</th>\n",
              "      <td>Negative</td>\n",
              "      <td>@Kenichan I dived many times for the ball. Man...</td>\n",
              "    </tr>\n",
              "    <tr>\n",
              "      <th>3</th>\n",
              "      <td>Negative</td>\n",
              "      <td>my whole body feels itchy and like its on fire</td>\n",
              "    </tr>\n",
              "    <tr>\n",
              "      <th>4</th>\n",
              "      <td>Negative</td>\n",
              "      <td>@nationwideclass no, it's not behaving at all....</td>\n",
              "    </tr>\n",
              "  </tbody>\n",
              "</table>\n",
              "</div>"
            ],
            "text/plain": [
              "  sentiment                                               text\n",
              "0  Negative  @switchfoot http://twitpic.com/2y1zl - Awww, t...\n",
              "1  Negative  is upset that he can't update his Facebook by ...\n",
              "2  Negative  @Kenichan I dived many times for the ball. Man...\n",
              "3  Negative    my whole body feels itchy and like its on fire \n",
              "4  Negative  @nationwideclass no, it's not behaving at all...."
            ]
          },
          "metadata": {
            "tags": []
          },
          "execution_count": 13
        }
      ]
    },
    {
      "cell_type": "code",
      "metadata": {
        "id": "S_Iyly2nweIO",
        "colab": {
          "base_uri": "https://localhost:8080/",
          "height": 298
        },
        "outputId": "47fe0f4e-ed9f-47f1-c01b-11dc0cc44389"
      },
      "source": [
        "val_count = df.sentiment.value_counts()\n",
        "\n",
        "plt.figure(figsize=(8,4))\n",
        "plt.bar(val_count.index, val_count.values)\n",
        "plt.title(\"Sentiment Data Distribution\")"
      ],
      "execution_count": 14,
      "outputs": [
        {
          "output_type": "execute_result",
          "data": {
            "text/plain": [
              "Text(0.5, 1.0, 'Sentiment Data Distribution')"
            ]
          },
          "metadata": {
            "tags": []
          },
          "execution_count": 14
        },
        {
          "output_type": "display_data",
          "data": {
            "image/png": "[encoded data removed]",
            "text/plain": [
              "<Figure size 576x288 with 1 Axes>"
            ]
          },
          "metadata": {
            "tags": [],
            "needs_background": "light"
          }
        }
      ]
    },
    {
      "cell_type": "code",
      "metadata": {
        "id": "7poMA4k1weKm",
        "colab": {
          "base_uri": "https://localhost:8080/",
          "height": 359
        },
        "outputId": "21c4a3d0-afa1-4f73-ee25-cb034cecedb5"
      },
      "source": [
        "import random\n",
        "random_idx_list = [random.randint(1,len(df.text)) for i in range(10)] # creates random indexes to choose from dataframe\n",
        "df.loc[random_idx_list,:].head(10) # Returns the rows with the index and display it"
      ],
      "execution_count": 15,
      "outputs": [
        {
          "output_type": "execute_result",
          "data": {
            "text/html": [
              "<div>\n",
              "<style scoped>\n",
              "    .dataframe tbody tr th:only-of-type {\n",
              "        vertical-align: middle;\n",
              "    }\n",
              "\n",
              "    .dataframe tbody tr th {\n",
              "        vertical-align: top;\n",
              "    }\n",
              "\n",
              "    .dataframe thead th {\n",
              "        text-align: right;\n",
              "    }\n",
              "</style>\n",
              "<table border=\"1\" class=\"dataframe\">\n",
              "  <thead>\n",
              "    <tr style=\"text-align: right;\">\n",
              "      <th></th>\n",
              "      <th>sentiment</th>\n",
              "      <th>text</th>\n",
              "    </tr>\n",
              "  </thead>\n",
              "  <tbody>\n",
              "    <tr>\n",
              "      <th>676501</th>\n",
              "      <td>Negative</td>\n",
              "      <td>is thristy... agua!!!  http://plurk.com/p/12blz1</td>\n",
              "    </tr>\n",
              "    <tr>\n",
              "      <th>415109</th>\n",
              "      <td>Negative</td>\n",
              "      <td>Cloudy Sunday....Humid Weather....so GLOOMY fo...</td>\n",
              "    </tr>\n",
              "    <tr>\n",
              "      <th>1211600</th>\n",
              "      <td>Positive</td>\n",
              "      <td>i wear man i luvz dat push play promo rap vide...</td>\n",
              "    </tr>\n",
              "    <tr>\n",
              "      <th>1021248</th>\n",
              "      <td>Positive</td>\n",
              "      <td>wishes she could tweet daily specials for Phil...</td>\n",
              "    </tr>\n",
              "    <tr>\n",
              "      <th>130788</th>\n",
              "      <td>Negative</td>\n",
              "      <td>ARRGGGHHHH I have loaddss of birthday money bu...</td>\n",
              "    </tr>\n",
              "    <tr>\n",
              "      <th>1559175</th>\n",
              "      <td>Positive</td>\n",
              "      <td>@ShontelSherrea well atleast she's going to do...</td>\n",
              "    </tr>\n",
              "    <tr>\n",
              "      <th>47009</th>\n",
              "      <td>Negative</td>\n",
              "      <td>I dropped my DSi yesterday when trying to put ...</td>\n",
              "    </tr>\n",
              "    <tr>\n",
              "      <th>112997</th>\n",
              "      <td>Negative</td>\n",
              "      <td>afternoon twitter world.    i am hungry    x</td>\n",
              "    </tr>\n",
              "    <tr>\n",
              "      <th>1074600</th>\n",
              "      <td>Positive</td>\n",
              "      <td>Taco bell, hanging w/Ryan then to Megans house...</td>\n",
              "    </tr>\n",
              "    <tr>\n",
              "      <th>173955</th>\n",
              "      <td>Negative</td>\n",
              "      <td>i hate going to work.</td>\n",
              "    </tr>\n",
              "  </tbody>\n",
              "</table>\n",
              "</div>"
            ],
            "text/plain": [
              "        sentiment                                               text\n",
              "676501   Negative   is thristy... agua!!!  http://plurk.com/p/12blz1\n",
              "415109   Negative  Cloudy Sunday....Humid Weather....so GLOOMY fo...\n",
              "1211600  Positive  i wear man i luvz dat push play promo rap vide...\n",
              "1021248  Positive  wishes she could tweet daily specials for Phil...\n",
              "130788   Negative  ARRGGGHHHH I have loaddss of birthday money bu...\n",
              "1559175  Positive  @ShontelSherrea well atleast she's going to do...\n",
              "47009    Negative  I dropped my DSi yesterday when trying to put ...\n",
              "112997   Negative       afternoon twitter world.    i am hungry    x\n",
              "1074600  Positive  Taco bell, hanging w/Ryan then to Megans house...\n",
              "173955   Negative                             i hate going to work. "
            ]
          },
          "metadata": {
            "tags": []
          },
          "execution_count": 15
        }
      ]
    },
    {
      "cell_type": "code",
      "metadata": {
        "id": "99WJm5WYweM9"
      },
      "source": [
        "stop_words = stopwords.words('english')\n",
        "stemmer = SnowballStemmer('english')\n",
        "\n",
        "text_cleaning_re = \"@\\S+|https?:\\S+|http?:\\S|[^A-Za-z0-9]+\""
      ],
      "execution_count": 16,
      "outputs": []
    },
    {
      "cell_type": "code",
      "metadata": {
        "id": "oE4Bci32wePi"
      },
      "source": [
        "def preprocess(text, stem=False):\n",
        "  text = re.sub(text_cleaning_re, ' ', str(text).lower()).strip()\n",
        "  tokens = []\n",
        "  for token in text.split():\n",
        "    if token not in stop_words:\n",
        "      if stem:\n",
        "        tokens.append(stemmer.stem(token))\n",
        "      else:\n",
        "        tokens.append(token)\n",
        "  return \" \".join(tokens)"
      ],
      "execution_count": 17,
      "outputs": []
    },
    {
      "cell_type": "code",
      "metadata": {
        "id": "MNyqu2-vweSD"
      },
      "source": [
        "df.text = df.text.apply(lambda x: preprocess(x))"
      ],
      "execution_count": 18,
      "outputs": []
    },
    {
      "cell_type": "code",
      "metadata": {
        "id": "PNiQU55xweUt"
      },
      "source": [
        "TRAIN_SIZE = 0.8\n",
        "MAX_NB_WORDS = 100000\n",
        "MAX_SEQUENCE_LENGTH = 30"
      ],
      "execution_count": 19,
      "outputs": []
    },
    {
      "cell_type": "code",
      "metadata": {
        "id": "LIKw6jl9weW3",
        "colab": {
          "base_uri": "https://localhost:8080/"
        },
        "outputId": "96622942-e1bb-4c7c-ef14-b0cee7e011d6"
      },
      "source": [
        "train_data, test_data = train_test_split(df, test_size=1-TRAIN_SIZE,\n",
        "                                         random_state=7) # Splits Dataset into Training and Testing set\n",
        "print(\"Train Data size:\", len(train_data))\n",
        "print(\"Test Data size\", len(test_data))"
      ],
      "execution_count": 20,
      "outputs": [
        {
          "output_type": "stream",
          "text": [
            "Train Data size: 1280000\n",
            "Test Data size 320000\n"
          ],
          "name": "stdout"
        }
      ]
    },
    {
      "cell_type": "code",
      "metadata": {
        "id": "nudiUPIpweZ5",
        "colab": {
          "base_uri": "https://localhost:8080/",
          "height": 359
        },
        "outputId": "cc6768a4-861b-4199-aa95-f063dc078251"
      },
      "source": [
        "train_data.head(10)"
      ],
      "execution_count": 21,
      "outputs": [
        {
          "output_type": "execute_result",
          "data": {
            "text/html": [
              "<div>\n",
              "<style scoped>\n",
              "    .dataframe tbody tr th:only-of-type {\n",
              "        vertical-align: middle;\n",
              "    }\n",
              "\n",
              "    .dataframe tbody tr th {\n",
              "        vertical-align: top;\n",
              "    }\n",
              "\n",
              "    .dataframe thead th {\n",
              "        text-align: right;\n",
              "    }\n",
              "</style>\n",
              "<table border=\"1\" class=\"dataframe\">\n",
              "  <thead>\n",
              "    <tr style=\"text-align: right;\">\n",
              "      <th></th>\n",
              "      <th>sentiment</th>\n",
              "      <th>text</th>\n",
              "    </tr>\n",
              "  </thead>\n",
              "  <tbody>\n",
              "    <tr>\n",
              "      <th>23786</th>\n",
              "      <td>Negative</td>\n",
              "      <td>need friends</td>\n",
              "    </tr>\n",
              "    <tr>\n",
              "      <th>182699</th>\n",
              "      <td>Negative</td>\n",
              "      <td>im trying call impossible</td>\n",
              "    </tr>\n",
              "    <tr>\n",
              "      <th>476661</th>\n",
              "      <td>Negative</td>\n",
              "      <td>good pace going 3k 13 min missed 5k turn ended...</td>\n",
              "    </tr>\n",
              "    <tr>\n",
              "      <th>1181490</th>\n",
              "      <td>Positive</td>\n",
              "      <td>u gonna shows ny soon luv see u live</td>\n",
              "    </tr>\n",
              "    <tr>\n",
              "      <th>878773</th>\n",
              "      <td>Positive</td>\n",
              "      <td>hell yea get em tattoos ink free wish parents ...</td>\n",
              "    </tr>\n",
              "    <tr>\n",
              "      <th>130866</th>\n",
              "      <td>Negative</td>\n",
              "      <td>yeah need 2 see ur mom calls back first rememb...</td>\n",
              "    </tr>\n",
              "    <tr>\n",
              "      <th>1235876</th>\n",
              "      <td>Positive</td>\n",
              "      <td>sounds like cup tea sign</td>\n",
              "    </tr>\n",
              "    <tr>\n",
              "      <th>717314</th>\n",
              "      <td>Negative</td>\n",
              "      <td>tired want sleep wtf</td>\n",
              "    </tr>\n",
              "    <tr>\n",
              "      <th>969880</th>\n",
              "      <td>Positive</td>\n",
              "      <td>amazing wish</td>\n",
              "    </tr>\n",
              "    <tr>\n",
              "      <th>748698</th>\n",
              "      <td>Negative</td>\n",
              "      <td>thank god wkrn abc affiliate nashville back mi...</td>\n",
              "    </tr>\n",
              "  </tbody>\n",
              "</table>\n",
              "</div>"
            ],
            "text/plain": [
              "        sentiment                                               text\n",
              "23786    Negative                                       need friends\n",
              "182699   Negative                          im trying call impossible\n",
              "476661   Negative  good pace going 3k 13 min missed 5k turn ended...\n",
              "1181490  Positive               u gonna shows ny soon luv see u live\n",
              "878773   Positive  hell yea get em tattoos ink free wish parents ...\n",
              "130866   Negative  yeah need 2 see ur mom calls back first rememb...\n",
              "1235876  Positive                           sounds like cup tea sign\n",
              "717314   Negative                               tired want sleep wtf\n",
              "969880   Positive                                       amazing wish\n",
              "748698   Negative  thank god wkrn abc affiliate nashville back mi..."
            ]
          },
          "metadata": {
            "tags": []
          },
          "execution_count": 21
        }
      ]
    },
    {
      "cell_type": "code",
      "metadata": {
        "id": "mfaxhztkwecO",
        "colab": {
          "base_uri": "https://localhost:8080/"
        },
        "outputId": "115926cb-0b99-4e19-9414-996c4acc44d3"
      },
      "source": [
        "from keras.preprocessing.text import Tokenizer\n",
        "\n",
        "tokenizer = Tokenizer()\n",
        "tokenizer.fit_on_texts(train_data.text)\n",
        "\n",
        "word_index = tokenizer.word_index\n",
        "vocab_size = len(tokenizer.word_index) + 1\n",
        "print(\"Vocabulary Size :\", vocab_size)"
      ],
      "execution_count": 22,
      "outputs": [
        {
          "output_type": "stream",
          "text": [
            "Vocabulary Size : 290575\n"
          ],
          "name": "stdout"
        }
      ]
    },
    {
      "cell_type": "code",
      "metadata": {
        "id": "Xwh0QBGAweea",
        "colab": {
          "base_uri": "https://localhost:8080/"
        },
        "outputId": "980a3a34-55be-45e5-f296-298f7d93feec"
      },
      "source": [
        "from keras.preprocessing.sequence import pad_sequences\n",
        "\n",
        "x_train = pad_sequences(tokenizer.texts_to_sequences(train_data.text),\n",
        "                        maxlen = MAX_SEQUENCE_LENGTH)\n",
        "x_test = pad_sequences(tokenizer.texts_to_sequences(test_data.text),\n",
        "                       maxlen = MAX_SEQUENCE_LENGTH)\n",
        "\n",
        "print(\"Training X Shape:\",x_train.shape)\n",
        "print(\"Testing X Shape:\",x_test.shape)"
      ],
      "execution_count": 23,
      "outputs": [
        {
          "output_type": "stream",
          "text": [
            "Training X Shape: (1280000, 30)\n",
            "Testing X Shape: (320000, 30)\n"
          ],
          "name": "stdout"
        }
      ]
    },
    {
      "cell_type": "code",
      "metadata": {
        "id": "aSeMEUd2wehC"
      },
      "source": [
        "labels = train_data.sentiment.unique().tolist()"
      ],
      "execution_count": 25,
      "outputs": []
    },
    {
      "cell_type": "code",
      "metadata": {
        "colab": {
          "base_uri": "https://localhost:8080/"
        },
        "id": "8ggatNLz-4K_",
        "outputId": "57a1db27-73c5-4502-e5c6-344249cdb6fc"
      },
      "source": [
        "print(labels)"
      ],
      "execution_count": 27,
      "outputs": [
        {
          "output_type": "stream",
          "text": [
            "['Negative', 'Positive']\n"
          ],
          "name": "stdout"
        }
      ]
    },
    {
      "cell_type": "code",
      "metadata": {
        "colab": {
          "base_uri": "https://localhost:8080/",
          "height": 35
        },
        "id": "8qdzyR8BqGXm",
        "outputId": "99fd69ff-8208-485c-c4d8-abc43085f000"
      },
      "source": [
        "labels[1]"
      ],
      "execution_count": 75,
      "outputs": [
        {
          "output_type": "execute_result",
          "data": {
            "application/vnd.google.colaboratory.intrinsic+json": {
              "type": "string"
            },
            "text/plain": [
              "'Positive'"
            ]
          },
          "metadata": {
            "tags": []
          },
          "execution_count": 75
        }
      ]
    },
    {
      "cell_type": "code",
      "metadata": {
        "id": "szv2PlYXwejn",
        "colab": {
          "base_uri": "https://localhost:8080/"
        },
        "outputId": "2944da76-131d-4127-bd73-b48cc9da1d13"
      },
      "source": [
        "encoder = LabelEncoder()\n",
        "encoder.fit(train_data.sentiment.to_list())\n",
        "\n",
        "y_train = encoder.transform(train_data.sentiment.to_list())\n",
        "y_test = encoder.transform(test_data.sentiment.to_list())\n",
        "\n",
        "y_train = y_train.reshape(-1,1)\n",
        "y_test = y_test.reshape(-1,1)\n",
        "\n",
        "print(\"y_train shape:\", y_train.shape)\n",
        "print(\"y_test shape:\", y_test.shape)"
      ],
      "execution_count": 28,
      "outputs": [
        {
          "output_type": "stream",
          "text": [
            "y_train shape: (1280000, 1)\n",
            "y_test shape: (320000, 1)\n"
          ],
          "name": "stdout"
        }
      ]
    },
    {
      "cell_type": "code",
      "metadata": {
        "id": "FfVn04c9wemr",
        "colab": {
          "base_uri": "https://localhost:8080/"
        },
        "outputId": "021f8879-2761-4383-a378-c77fb73f8b0d"
      },
      "source": [
        "!wget http://nlp.stanford.edu/data/glove.6B.zip\n",
        "!unzip glove.6B.zip"
      ],
      "execution_count": 30,
      "outputs": [
        {
          "output_type": "stream",
          "text": [
            "--2021-05-11 15:28:39--  http://nlp.stanford.edu/data/glove.6B.zip\n",
            "Resolving nlp.stanford.edu (nlp.stanford.edu)... 171.64.67.140\n",
            "Connecting to nlp.stanford.edu (nlp.stanford.edu)|171.64.67.140|:80... connected.\n",
            "HTTP request sent, awaiting response... 302 Found\n",
            "Location: https://nlp.stanford.edu/data/glove.6B.zip [following]\n",
            "--2021-05-11 15:28:39--  https://nlp.stanford.edu/data/glove.6B.zip\n",
            "Connecting to nlp.stanford.edu (nlp.stanford.edu)|171.64.67.140|:443... connected.\n",
            "HTTP request sent, awaiting response... 301 Moved Permanently\n",
            "Location: http://downloads.cs.stanford.edu/nlp/data/glove.6B.zip [following]\n",
            "--2021-05-11 15:28:40--  http://downloads.cs.stanford.edu/nlp/data/glove.6B.zip\n",
            "Resolving downloads.cs.stanford.edu (downloads.cs.stanford.edu)... 171.64.64.22\n",
            "Connecting to downloads.cs.stanford.edu (downloads.cs.stanford.edu)|171.64.64.22|:80... connected.\n",
            "HTTP request sent, awaiting response... 200 OK\n",
            "Length: 862182613 (822M) [application/zip]\n",
            "Saving to: ‘glove.6B.zip.1’\n",
            "\n",
            "glove.6B.zip.1      100%[===================>] 822.24M  1.86MB/s    in 5m 39s  \n",
            "\n",
            "2021-05-11 15:34:22 (2.43 MB/s) - ‘glove.6B.zip.1’ saved [862182613/862182613]\n",
            "\n",
            "Archive:  glove.6B.zip\n",
            "replace glove.6B.50d.txt? [y]es, [n]o, [A]ll, [N]one, [r]ename: y\n",
            "  inflating: glove.6B.50d.txt        \n",
            "replace glove.6B.100d.txt? [y]es, [n]o, [A]ll, [N]one, [r]ename: y\n",
            "  inflating: glove.6B.100d.txt       y\n",
            "\n",
            "replace glove.6B.200d.txt? [y]es, [n]o, [A]ll, [N]one, [r]ename:   inflating: glove.6B.200d.txt       y\n",
            "\n",
            "replace glove.6B.300d.txt? [y]es, [n]o, [A]ll, [N]one, [r]ename:   inflating: glove.6B.300d.txt       y\n",
            "\n"
          ],
          "name": "stdout"
        }
      ]
    },
    {
      "cell_type": "code",
      "metadata": {
        "id": "KvlxdnqiwepR"
      },
      "source": [
        "GLOVE_EMB = '/glove.6B.300d.txt'\n",
        "EMBEDDING_DIM = 300\n",
        "LR = 1e-3\n",
        "BATCH_SIZE = 1024\n",
        "EPOCHS = 10\n",
        "MODEL_PATH = '.../output/kaggle/working/best_model.hdf5'\n"
      ],
      "execution_count": 31,
      "outputs": []
    },
    {
      "cell_type": "code",
      "metadata": {
        "colab": {
          "base_uri": "https://localhost:8080/"
        },
        "id": "IgeiMzcEFOo3",
        "outputId": "6105fc0c-13c6-48e1-8864-e11ecd78cc7f"
      },
      "source": [
        "!ls\n",
        "!pwd"
      ],
      "execution_count": 33,
      "outputs": [
        {
          "output_type": "stream",
          "text": [
            "glove.6B.100d.txt  glove.6B.50d.txt  kaggle.json\n",
            "glove.6B.200d.txt  glove.6B.zip      sample_data\n",
            "glove.6B.300d.txt  glove.6B.zip.1    sentiment140.zip\n",
            "/content\n"
          ],
          "name": "stdout"
        }
      ]
    },
    {
      "cell_type": "code",
      "metadata": {
        "id": "mtccDZdywere",
        "colab": {
          "base_uri": "https://localhost:8080/"
        },
        "outputId": "b8595480-0bac-4489-a8ac-6d3333502437"
      },
      "source": [
        "embeddings_index = {}\n",
        "\n",
        "f = open('glove.6B.300d.txt')\n",
        "for line in f:\n",
        "  values = line.split()\n",
        "  word = value = values[0]\n",
        "  coefs = np.asarray(values[1:], dtype='float32')\n",
        "  embeddings_index[word] = coefs\n",
        "f.close()\n",
        "\n",
        "print('Found %s word vectors.' %len(embeddings_index))"
      ],
      "execution_count": 35,
      "outputs": [
        {
          "output_type": "stream",
          "text": [
            "Found 400000 word vectors.\n"
          ],
          "name": "stdout"
        }
      ]
    },
    {
      "cell_type": "code",
      "metadata": {
        "id": "CLK3jnicwevX"
      },
      "source": [
        "embedding_matrix = np.zeros((vocab_size, EMBEDDING_DIM))\n",
        "for word, i in word_index.items():\n",
        "  embedding_vector = embeddings_index.get(word)\n",
        "  if embedding_vector is not None:\n",
        "    embedding_matrix[i] = embedding_vector"
      ],
      "execution_count": 36,
      "outputs": []
    },
    {
      "cell_type": "code",
      "metadata": {
        "id": "GKEPF7iJ5fjJ"
      },
      "source": [
        "embedding_layer = tf.keras.layers.Embedding(vocab_size,\n",
        "                                          EMBEDDING_DIM,\n",
        "                                          weights=[embedding_matrix],\n",
        "                                          input_length=MAX_SEQUENCE_LENGTH,\n",
        "                                          trainable=False)"
      ],
      "execution_count": 37,
      "outputs": []
    },
    {
      "cell_type": "markdown",
      "metadata": {
        "id": "DtDxH2wb5kt8"
      },
      "source": [
        "Model Training - LSTM\n",
        "---\n",
        "We are clear to build our Deep Learning model. While developing a DL model, we should keep in mind of key things like Model Architecture, Hyperparmeter Tuning and Performance of the model.\n",
        "\n",
        "As you can see in the word cloud, the some words are predominantly feature in both Positive and Negative tweets. This could be a problem if we are using a Machine Learning model like Naive Bayes, SVD, etc.. That's why we use Sequence Models.\n",
        "\n",
        "Reccurent Neural Networks can handle a seqence of data and learn a pattern of input seqence to give either sequence or scalar value as output. In our case, the Neural Network outputs a scalar value prediction.\n",
        "\n",
        "For model architecture, we use\n",
        "\n",
        "1) Embedding Layer - Generates Embedding Vector for each input sequence.\n",
        "\n",
        "2) Conv1D Layer - Its using to convolve data into smaller feature vectors.\n",
        "\n",
        "3) LSTM - Long Short Term Memory, its a variant of RNN which has memory state cell to learn the context of words which are at further along the text to carry contextual meaning rather than just neighbouring words as in case of RNN.\n",
        "\n",
        "4) Dense - Fully Connected Layers for classification"
      ]
    },
    {
      "cell_type": "code",
      "metadata": {
        "id": "ehT09Dts5fvN"
      },
      "source": [
        "from tensorflow.keras.layers import Conv1D, Bidirectional, LSTM, Dense, Input, Dropout\n",
        "from tensorflow.keras.layers import SpatialDropout1D\n",
        "from tensorflow.keras.callbacks import ModelCheckpoint"
      ],
      "execution_count": 38,
      "outputs": []
    },
    {
      "cell_type": "code",
      "metadata": {
        "id": "-RIVfPP85fwx",
        "colab": {
          "base_uri": "https://localhost:8080/"
        },
        "outputId": "4e7a41c3-0010-44fb-d491-6bfc85757e06"
      },
      "source": [
        "sequence_input = Input(shape=(MAX_SEQUENCE_LENGTH,), dtype='int32')\n",
        "embedding_sequences = embedding_layer(sequence_input)\n",
        "x = SpatialDropout1D(0.2)(embedding_sequences)\n",
        "x = Conv1D(64, 5, activation='relu')(x)\n",
        "x = Bidirectional(LSTM(64, dropout=0.2, recurrent_dropout=0.2))(x)\n",
        "x = Dense(512, activation='relu')(x)\n",
        "x = Dropout(0.5)(x)\n",
        "x = Dense(512, activation='relu')(x)\n",
        "outputs = Dense(1, activation='sigmoid')(x)\n",
        "model = tf.keras.Model(sequence_input, outputs)"
      ],
      "execution_count": 39,
      "outputs": [
        {
          "output_type": "stream",
          "text": [
            "WARNING:tensorflow:Layer lstm will not use cuDNN kernel since it doesn't meet the cuDNN kernel criteria. It will use generic GPU kernel as fallback when running on GPU\n",
            "WARNING:tensorflow:Layer lstm will not use cuDNN kernel since it doesn't meet the cuDNN kernel criteria. It will use generic GPU kernel as fallback when running on GPU\n",
            "WARNING:tensorflow:Layer lstm will not use cuDNN kernel since it doesn't meet the cuDNN kernel criteria. It will use generic GPU kernel as fallback when running on GPU\n"
          ],
          "name": "stdout"
        }
      ]
    },
    {
      "cell_type": "markdown",
      "metadata": {
        "id": "CQ6eo3kh5zMk"
      },
      "source": [
        "Optimization Algorithm\n",
        "---\n",
        "This notebook uses Adam, optimization algorithm for Gradient Descent. You can learn more about Adam here\n",
        "\n",
        "Callbacks\n",
        "---\n",
        "Callbacks are special functions which are called at the end of an epoch. We can use any functions to perform specific operation after each epoch. I used two callbacks here,\n",
        "\n",
        "<b>LRScheduler</b> - It changes a Learning Rate at specfic epoch to achieve more improved result. In this notebook, the learning rate exponentionally decreases after remaining same for first 10 Epoch.\n",
        "\n",
        "<b>ModelCheckPoint</b> - It saves best model while training based on some metrics. Here, it saves the model with minimum Validity Loss."
      ]
    },
    {
      "cell_type": "code",
      "metadata": {
        "id": "sY-gjGDI5fzh"
      },
      "source": [
        "from tensorflow.keras.optimizers import Adam\n",
        "from tensorflow.keras.callbacks import ReduceLROnPlateau\n",
        "\n",
        "model.compile(optimizer=Adam(learning_rate=LR), loss='binary_crossentropy',\n",
        "              metrics=['accuracy'])\n",
        "ReduceLROnPlateau = ReduceLROnPlateau(factor=0.1,\n",
        "                                     min_lr = 0.01,\n",
        "                                     monitor = 'val_loss',\n",
        "                                     verbose = 1)"
      ],
      "execution_count": 40,
      "outputs": []
    },
    {
      "cell_type": "code",
      "metadata": {
        "id": "PjYF8LvJ5f2N",
        "colab": {
          "base_uri": "https://localhost:8080/"
        },
        "outputId": "272d8bab-a7df-4a8b-a2e5-d8ade31d1b8b"
      },
      "source": [
        "history = model.fit(x_train, y_train, batch_size=BATCH_SIZE, epochs=EPOCHS,\n",
        "                    validation_data=(x_test, y_test), callbacks=[ReduceLROnPlateau])"
      ],
      "execution_count": 41,
      "outputs": [
        {
          "output_type": "stream",
          "text": [
            "Epoch 1/10\n",
            "1250/1250 [==============================] - 256s 178ms/step - loss: 0.5464 - accuracy: 0.7164 - val_loss: 0.4830 - val_accuracy: 0.7647\n",
            "Epoch 2/10\n",
            "1250/1250 [==============================] - 222s 177ms/step - loss: 0.4896 - accuracy: 0.7612 - val_loss: 0.4729 - val_accuracy: 0.7725\n",
            "Epoch 3/10\n",
            "1250/1250 [==============================] - 222s 178ms/step - loss: 0.4773 - accuracy: 0.7692 - val_loss: 0.4661 - val_accuracy: 0.7766\n",
            "Epoch 4/10\n",
            "1250/1250 [==============================] - 222s 178ms/step - loss: 0.4702 - accuracy: 0.7733 - val_loss: 0.4633 - val_accuracy: 0.7780\n",
            "Epoch 5/10\n",
            "1250/1250 [==============================] - 222s 177ms/step - loss: 0.4662 - accuracy: 0.7763 - val_loss: 0.4623 - val_accuracy: 0.7793\n",
            "Epoch 6/10\n",
            "1250/1250 [==============================] - 221s 177ms/step - loss: 0.4623 - accuracy: 0.7782 - val_loss: 0.4634 - val_accuracy: 0.7799\n",
            "Epoch 7/10\n",
            "1250/1250 [==============================] - 219s 175ms/step - loss: 0.4585 - accuracy: 0.7805 - val_loss: 0.4591 - val_accuracy: 0.7807\n",
            "Epoch 8/10\n",
            "1250/1250 [==============================] - 221s 177ms/step - loss: 0.4559 - accuracy: 0.7825 - val_loss: 0.4589 - val_accuracy: 0.7798\n",
            "Epoch 9/10\n",
            "1250/1250 [==============================] - 221s 177ms/step - loss: 0.4554 - accuracy: 0.7824 - val_loss: 0.4572 - val_accuracy: 0.7824\n",
            "Epoch 10/10\n",
            "1250/1250 [==============================] - 221s 176ms/step - loss: 0.4540 - accuracy: 0.7835 - val_loss: 0.4592 - val_accuracy: 0.7823\n"
          ],
          "name": "stdout"
        }
      ]
    },
    {
      "cell_type": "markdown",
      "metadata": {
        "id": "WkZN_0HB6Qhm"
      },
      "source": [
        "Model Evaluation\n",
        "---\n",
        "Now that we have trained the model, we can evaluate its performance. We will some evaluation metrics and techniques to test the model.\n",
        "\n",
        "Let's start with the Learning Curve of loss and accuracy of the model on each epoch."
      ]
    },
    {
      "cell_type": "code",
      "metadata": {
        "id": "tqYNJeDn5f5U",
        "colab": {
          "base_uri": "https://localhost:8080/",
          "height": 312
        },
        "outputId": "8513b20f-5cf1-4403-b0cd-9f8ba2bb2029"
      },
      "source": [
        "s, (at, al) = plt.subplots(2,1)\n",
        "at.plot(history.history['accuracy'], c= 'b')\n",
        "at.plot(history.history['val_accuracy'], c='r')\n",
        "at.set_title('model accuracy')\n",
        "at.set_ylabel('accuracy')\n",
        "at.set_xlabel('epoch')\n",
        "at.legend(['LSTM_train', 'LSTM_val'], loc='upper left')\n",
        "\n",
        "al.plot(history.history['loss'], c='m')\n",
        "al.plot(history.history['val_loss'], c='c')\n",
        "al.set_title('model loss')\n",
        "al.set_ylabel('loss')\n",
        "al.set_xlabel('epoch')\n",
        "al.legend(['train', 'val'], loc = 'upper left')"
      ],
      "execution_count": 42,
      "outputs": [
        {
          "output_type": "execute_result",
          "data": {
            "text/plain": [
              "<matplotlib.legend.Legend at 0x7f2616113f50>"
            ]
          },
          "metadata": {
            "tags": []
          },
          "execution_count": 42
        },
        {
          "output_type": "display_data",
          "data": {
            "image/png": "[encoded data removed]",
            "text/plain": [
              "<Figure size 432x288 with 2 Axes>"
            ]
          },
          "metadata": {
            "tags": [],
            "needs_background": "light"
          }
        }
      ]
    },
    {
      "cell_type": "markdown",
      "metadata": {
        "id": "csxivtCG6hRM"
      },
      "source": [
        "The model will output a prediction score between 0 and 1. We can classify two classes by defining a threshold value for it. In our case, I have set 0.5 as THRESHOLD value, if the score above it. Then it will be classified as POSITIVE sentiment."
      ]
    },
    {
      "cell_type": "code",
      "metadata": {
        "id": "DABiLwNf5f8n",
        "colab": {
          "base_uri": "https://localhost:8080/"
        },
        "outputId": "f225ba23-8b49-4b69-f2ab-3996526cbf1f"
      },
      "source": [
        "def decode_sentiment(score):\n",
        "    return \"Positive\" if score>0.5 else \"Negative\"\n",
        "\n",
        "\n",
        "scores = model.predict(x_test, verbose=1, batch_size=10000)\n",
        "y_pred_1d = [decode_sentiment(score) for score in scores]"
      ],
      "execution_count": 43,
      "outputs": [
        {
          "output_type": "stream",
          "text": [
            "32/32 [==============================] - 9s 226ms/step\n"
          ],
          "name": "stdout"
        }
      ]
    },
    {
      "cell_type": "code",
      "metadata": {
        "id": "s8DJiB2N5f_X"
      },
      "source": [
        "import itertools\n",
        "from sklearn.metrics import confusion_matrix, classification_report, accuracy_score\n",
        "def plot_confusion_matrix(cm, classes,\n",
        "                          title='Confusion matrix',\n",
        "                          cmap=plt.cm.Blues):\n",
        "    \"\"\"\n",
        "    This function prints and plots the confusion matrix.\n",
        "    Normalization can be applied by setting `normalize=True`.\n",
        "    \"\"\"\n",
        "\n",
        "    cm = cm.astype('float') / cm.sum(axis=1)[:, np.newaxis]\n",
        "\n",
        "    plt.imshow(cm, interpolation='nearest', cmap=cmap)\n",
        "    plt.title(title, fontsize=20)\n",
        "    plt.colorbar()\n",
        "    tick_marks = np.arange(len(classes))\n",
        "    plt.xticks(tick_marks, classes, fontsize=13)\n",
        "    plt.yticks(tick_marks, classes, fontsize=13)\n",
        "\n",
        "    fmt = '.2f'\n",
        "    thresh = cm.max() / 2.\n",
        "    for i, j in itertools.product(range(cm.shape[0]), range(cm.shape[1])):\n",
        "        plt.text(j, i, format(cm[i, j], fmt),\n",
        "                 horizontalalignment=\"center\",\n",
        "                 color=\"white\" if cm[i, j] > thresh else \"black\")\n",
        "\n",
        "    plt.ylabel('True label', fontsize=17)\n",
        "    plt.xlabel('Predicted label', fontsize=17)\n"
      ],
      "execution_count": 44,
      "outputs": []
    },
    {
      "cell_type": "code",
      "metadata": {
        "id": "DN60yg8b6sfQ",
        "colab": {
          "base_uri": "https://localhost:8080/",
          "height": 370
        },
        "outputId": "3415e9b7-b639-4c62-93a7-b3d5e553c34a"
      },
      "source": [
        "cnf_matrix = confusion_matrix(test_data.sentiment.to_list(), y_pred_1d)\n",
        "plt.figure(figsize=(6,6))\n",
        "plot_confusion_matrix(cnf_matrix, classes=test_data.sentiment.unique(), title=\"Confusion matrix\")\n",
        "plt.show()"
      ],
      "execution_count": 45,
      "outputs": [
        {
          "output_type": "display_data",
          "data": {
            "image/png": "[encoded data removed]",
            "text/plain": [
              "<Figure size 432x432 with 2 Axes>"
            ]
          },
          "metadata": {
            "tags": [],
            "needs_background": "light"
          }
        }
      ]
    },
    {
      "cell_type": "code",
      "metadata": {
        "id": "dAEsIWQO6v5x",
        "colab": {
          "base_uri": "https://localhost:8080/"
        },
        "outputId": "a28775f8-c2ea-4620-e32b-b7b291e98b88"
      },
      "source": [
        "print(classification_report(list(test_data.sentiment), y_pred_1d))"
      ],
      "execution_count": 46,
      "outputs": [
        {
          "output_type": "stream",
          "text": [
            "              precision    recall  f1-score   support\n",
            "\n",
            "    Negative       0.78      0.79      0.78    160542\n",
            "    Positive       0.79      0.77      0.78    159458\n",
            "\n",
            "    accuracy                           0.78    320000\n",
            "   macro avg       0.78      0.78      0.78    320000\n",
            "weighted avg       0.78      0.78      0.78    320000\n",
            "\n"
          ],
          "name": "stdout"
        }
      ]
    },
    {
      "cell_type": "code",
      "metadata": {
        "id": "8OTCCk9qQETq"
      },
      "source": [
        "GLOVE_EMB = 'glove.6B.300d.txt'"
      ],
      "execution_count": 48,
      "outputs": []
    },
    {
      "cell_type": "code",
      "metadata": {
        "id": "gO0QqGr9SeQa"
      },
      "source": [
        "# EXPORT\n",
        "KERAS_MODEL_04 = \"model.h5\"\n"
      ],
      "execution_count": 50,
      "outputs": []
    },
    {
      "cell_type": "code",
      "metadata": {
        "id": "bY-r0pgCWoRN"
      },
      "source": [
        "TOKENIZER_MODEL_04 = \"tokenizer.pkl\"\n",
        "ENCODER_MODEL_04 = \"encoder.pkl\""
      ],
      "execution_count": 57,
      "outputs": []
    },
    {
      "cell_type": "code",
      "metadata": {
        "colab": {
          "base_uri": "https://localhost:8080/"
        },
        "id": "wFo25zQyDJr1",
        "outputId": "7884eb94-2141-46e0-fc30-511f35fa92ef"
      },
      "source": [
        "#Save model\n",
        "model.save('KERAS_MODEL_04')"
      ],
      "execution_count": 52,
      "outputs": [
        {
          "output_type": "stream",
          "text": [
            "INFO:tensorflow:Assets written to: KERAS_MODEL_04/assets\n"
          ],
          "name": "stdout"
        }
      ]
    },
    {
      "cell_type": "code",
      "metadata": {
        "id": "M6xB6I0iUrqI"
      },
      "source": [
        "import pickle\n",
        "pickle.dump(tokenizer, open(TOKENIZER_MODEL_04, \"wb\"), protocol=0)\n",
        "pickle.dump(encoder, open(ENCODER_MODEL_04, \"wb\"), protocol=0)"
      ],
      "execution_count": 58,
      "outputs": []
    },
    {
      "cell_type": "code",
      "metadata": {
        "id": "Z6h8Pa6GopYy"
      },
      "source": [
        "# Utility\n",
        "import re\n",
        "import numpy as np\n",
        "import os\n",
        "from collections import Counter\n",
        "import logging\n",
        "import time\n",
        "import pickle\n",
        "import itertools"
      ],
      "execution_count": 62,
      "outputs": []
    },
    {
      "cell_type": "code",
      "metadata": {
        "colab": {
          "base_uri": "https://localhost:8080/"
        },
        "id": "bJKv48rWsq3-",
        "outputId": "7f28f865-dda4-4f6c-93c1-fa723b0814e6"
      },
      "source": [
        "neutral = df.sentiment.value_counts\n",
        "neutral"
      ],
      "execution_count": 96,
      "outputs": [
        {
          "output_type": "execute_result",
          "data": {
            "text/plain": [
              "<bound method IndexOpsMixin.value_counts of 0          Negative\n",
              "1          Negative\n",
              "2          Negative\n",
              "3          Negative\n",
              "4          Negative\n",
              "             ...   \n",
              "1599995    Positive\n",
              "1599996    Positive\n",
              "1599997    Positive\n",
              "1599998    Positive\n",
              "1599999    Positive\n",
              "Name: sentiment, Length: 1600000, dtype: object>"
            ]
          },
          "metadata": {
            "tags": []
          },
          "execution_count": 96
        }
      ]
    },
    {
      "cell_type": "code",
      "metadata": {
        "id": "0zDE6Dk7RG-9"
      },
      "source": [
        "#Predict\n",
        "SENTIMENT_THRESHOLDS = (0.2, 0.7)\n",
        "def decode_sentiment(score, include_neutral=True):\n",
        "    label = [\"Negative\", \"Positive\",\"Neutral\"]\n",
        "    if include_neutral:\n",
        "      if score <= SENTIMENT_THRESHOLDS[0]:\n",
        "        label = label[0]\n",
        "        return label\n",
        "      elif score >= SENTIMENT_THRESHOLDS[1]:\n",
        "        label = label[1]\n",
        "        return label\n",
        "      else:\n",
        "        return label[2]"
      ],
      "execution_count": 148,
      "outputs": []
    },
    {
      "cell_type": "code",
      "metadata": {
        "id": "2hu6n8UsQ3zk"
      },
      "source": [
        "def predict(text, include_neutral=True):\n",
        "    start_at = time.time()\n",
        "    # Tokenize text\n",
        "    x_test = pad_sequences(tokenizer.texts_to_sequences([text]), maxlen=MAX_SEQUENCE_LENGTH)\n",
        "    # Predict\n",
        "    score = model.predict([x_test])[0]\n",
        "    # Decode sentiment\n",
        "    label = decode_sentiment(score, include_neutral=include_neutral)\n",
        "\n",
        "    return {\"label\": label, \"score\": float(score),\n",
        "       \"elapsed_time\": time.time()-start_at} "
      ],
      "execution_count": 149,
      "outputs": []
    },
    {
      "cell_type": "code",
      "metadata": {
        "colab": {
          "base_uri": "https://localhost:8080/"
        },
        "id": "nPS25lrlm3kJ",
        "outputId": "1cd47da9-5e0a-4bff-b08b-f026fd74cc81"
      },
      "source": [
        "predict(\"I love the music\")"
      ],
      "execution_count": 150,
      "outputs": [
        {
          "output_type": "execute_result",
          "data": {
            "text/plain": [
              "{'elapsed_time': 0.0643310546875,\n",
              " 'label': 'Positive',\n",
              " 'score': 0.9622169137001038}"
            ]
          },
          "metadata": {
            "tags": []
          },
          "execution_count": 150
        }
      ]
    },
    {
      "cell_type": "code",
      "metadata": {
        "colab": {
          "base_uri": "https://localhost:8080/"
        },
        "id": "LDWJemOUohR1",
        "outputId": "9e185bea-8f4a-43d5-f14c-435f74fc9dda"
      },
      "source": [
        "predict(\"I hate the rain\")"
      ],
      "execution_count": 151,
      "outputs": [
        {
          "output_type": "execute_result",
          "data": {
            "text/plain": [
              "{'elapsed_time': 0.06743288040161133,\n",
              " 'label': 'Negative',\n",
              " 'score': 0.011905509978532791}"
            ]
          },
          "metadata": {
            "tags": []
          },
          "execution_count": 151
        }
      ]
    },
    {
      "cell_type": "code",
      "metadata": {
        "colab": {
          "base_uri": "https://localhost:8080/"
        },
        "id": "_VL26j-3qi5H",
        "outputId": "be882bdf-f7f4-4051-8583-1e7703f822f7"
      },
      "source": [
        "predict(\"i don't know what i'm doing\")"
      ],
      "execution_count": 152,
      "outputs": [
        {
          "output_type": "execute_result",
          "data": {
            "text/plain": [
              "{'elapsed_time': 0.06097912788391113,\n",
              " 'label': 'Neutral',\n",
              " 'score': 0.3511227071285248}"
            ]
          },
          "metadata": {
            "tags": []
          },
          "execution_count": 152
        }
      ]
    },
    {
      "cell_type": "code",
      "metadata": {
        "colab": {
          "base_uri": "https://localhost:8080/"
        },
        "id": "AgPSz2Hgq2ef",
        "outputId": "7d78ca8e-d6af-437f-997a-d6add3a83f3e"
      },
      "source": [
        "predict(\"i must appreciate your terrible try!\")"
      ],
      "execution_count": 153,
      "outputs": [
        {
          "output_type": "execute_result",
          "data": {
            "text/plain": [
              "{'elapsed_time': 0.06274533271789551,\n",
              " 'label': 'Neutral',\n",
              " 'score': 0.2962953746318817}"
            ]
          },
          "metadata": {
            "tags": []
          },
          "execution_count": 153
        }
      ]
    },
    {
      "cell_type": "code",
      "metadata": {
        "colab": {
          "base_uri": "https://localhost:8080/"
        },
        "id": "G-3-eXiArU_z",
        "outputId": "f3dd08a0-062f-460c-dba4-e2366feb8fbe"
      },
      "source": [
        "predict(\"i expect this result to be better!\")"
      ],
      "execution_count": 154,
      "outputs": [
        {
          "output_type": "execute_result",
          "data": {
            "text/plain": [
              "{'elapsed_time': 0.0596156120300293,\n",
              " 'label': 'Positive',\n",
              " 'score': 0.7943100333213806}"
            ]
          },
          "metadata": {
            "tags": []
          },
          "execution_count": 154
        }
      ]
    },
    {
      "cell_type": "code",
      "metadata": {
        "colab": {
          "base_uri": "https://localhost:8080/"
        },
        "id": "fFMjmlvj4vvw",
        "outputId": "2aacce3a-661f-4e3e-8f42-4c40731f9e83"
      },
      "source": [
        "predict(\"i am extremely positive about this model\")"
      ],
      "execution_count": 155,
      "outputs": [
        {
          "output_type": "execute_result",
          "data": {
            "text/plain": [
              "{'elapsed_time': 0.06609940528869629,\n",
              " 'label': 'Positive',\n",
              " 'score': 0.8825520873069763}"
            ]
          },
          "metadata": {
            "tags": []
          },
          "execution_count": 155
        }
      ]
    },
    {
      "cell_type": "code",
      "metadata": {
        "colab": {
          "base_uri": "https://localhost:8080/"
        },
        "id": "mYuaBFuE46CR",
        "outputId": "2cb8a057-8cdc-48c1-9b3f-91f000fcf8b6"
      },
      "source": [
        "predict(\"i am happy and i am emotional too\")"
      ],
      "execution_count": 157,
      "outputs": [
        {
          "output_type": "execute_result",
          "data": {
            "text/plain": [
              "{'elapsed_time': 0.06196856498718262,\n",
              " 'label': 'Neutral',\n",
              " 'score': 0.4346054792404175}"
            ]
          },
          "metadata": {
            "tags": []
          },
          "execution_count": 157
        }
      ]
    },
    {
      "cell_type": "code",
      "metadata": {
        "colab": {
          "base_uri": "https://localhost:8080/"
        },
        "id": "skFhH0EmBtOm",
        "outputId": "c430207e-9e32-4fb2-b0fa-1932be3fd2e5"
      },
      "source": [
        "predict(\"yes, we did it!\")"
      ],
      "execution_count": 158,
      "outputs": [
        {
          "output_type": "execute_result",
          "data": {
            "text/plain": [
              "{'elapsed_time': 0.06133604049682617,\n",
              " 'label': 'Positive',\n",
              " 'score': 0.8022045493125916}"
            ]
          },
          "metadata": {
            "tags": []
          },
          "execution_count": 158
        }
      ]
    },
    {
      "cell_type": "code",
      "metadata": {
        "colab": {
          "base_uri": "https://localhost:8080/"
        },
        "id": "LyXkgIYECUur",
        "outputId": "2ff2ffe7-d558-4e3f-c989-599a391b0835"
      },
      "source": [
        "predict(\"@karishma ott is apt\")"
      ],
      "execution_count": 159,
      "outputs": [
        {
          "output_type": "execute_result",
          "data": {
            "text/plain": [
              "{'elapsed_time': 0.06718564033508301,\n",
              " 'label': 'Neutral',\n",
              " 'score': 0.5784636735916138}"
            ]
          },
          "metadata": {
            "tags": []
          },
          "execution_count": 159
        }
      ]
    },
    {
      "cell_type": "code",
      "metadata": {
        "colab": {
          "base_uri": "https://localhost:8080/"
        },
        "id": "kT-nzV4-H1Mg",
        "outputId": "35876154-5ed3-4df4-ee52-d32df3b3ecf7"
      },
      "source": [
        "predict(\"@karishma outfit of the day is appropriate\")"
      ],
      "execution_count": 174,
      "outputs": [
        {
          "output_type": "execute_result",
          "data": {
            "text/plain": [
              "{'elapsed_time': 0.06774163246154785,\n",
              " 'label': 'Positive',\n",
              " 'score': 0.8568690419197083}"
            ]
          },
          "metadata": {
            "tags": []
          },
          "execution_count": 174
        }
      ]
    },
    {
      "cell_type": "code",
      "metadata": {
        "colab": {
          "base_uri": "https://localhost:8080/"
        },
        "id": "fPNIGWGKGWwY",
        "outputId": "66fc1b40-8c1f-4009-9b38-838ce392b05c"
      },
      "source": [
        "predict(\"WTF is this your model\")"
      ],
      "execution_count": 172,
      "outputs": [
        {
          "output_type": "execute_result",
          "data": {
            "text/plain": [
              "{'elapsed_time': 0.061324357986450195,\n",
              " 'label': 'Neutral',\n",
              " 'score': 0.2672094702720642}"
            ]
          },
          "metadata": {
            "tags": []
          },
          "execution_count": 172
        }
      ]
    },
    {
      "cell_type": "code",
      "metadata": {
        "colab": {
          "base_uri": "https://localhost:8080/"
        },
        "id": "GB22z3wiHZ2k",
        "outputId": "d3a606cb-cf50-474a-c2cd-9a2a4d69230d"
      },
      "source": [
        "predict(\"Covid-19 affected all of us\")"
      ],
      "execution_count": 169,
      "outputs": [
        {
          "output_type": "execute_result",
          "data": {
            "text/plain": [
              "{'elapsed_time': 0.06743121147155762,\n",
              " 'label': 'Negative',\n",
              " 'score': 0.1236468106508255}"
            ]
          },
          "metadata": {
            "tags": []
          },
          "execution_count": 169
        }
      ]
    },
    {
      "cell_type": "code",
      "metadata": {
        "colab": {
          "base_uri": "https://localhost:8080/"
        },
        "id": "oJ3Sy-TBGcc0",
        "outputId": "57183b51-c1ca-42df-c3cb-1cd3c3beb0c2"
      },
      "source": [
        "predict(\"Covid-19 pandemic affected all of us\")"
      ],
      "execution_count": 175,
      "outputs": [
        {
          "output_type": "execute_result",
          "data": {
            "text/plain": [
              "{'elapsed_time': 0.06368041038513184,\n",
              " 'label': 'Neutral',\n",
              " 'score': 0.2246607095003128}"
            ]
          },
          "metadata": {
            "tags": []
          },
          "execution_count": 175
        }
      ]
    },
    {
      "cell_type": "code",
      "metadata": {
        "colab": {
          "base_uri": "https://localhost:8080/"
        },
        "id": "oT1moltfG37T",
        "outputId": "71a92ba6-2978-40e6-aaa2-e8a5191db07d"
      },
      "source": [
        "predict(\"everyone should get vaccinated\")"
      ],
      "execution_count": 166,
      "outputs": [
        {
          "output_type": "execute_result",
          "data": {
            "text/plain": [
              "{'elapsed_time': 0.0679175853729248,\n",
              " 'label': 'Negative',\n",
              " 'score': 0.156111940741539}"
            ]
          },
          "metadata": {
            "tags": []
          },
          "execution_count": 166
        }
      ]
    },
    {
      "cell_type": "code",
      "metadata": {
        "colab": {
          "base_uri": "https://localhost:8080/"
        },
        "id": "ed-5ymZQGhv4",
        "outputId": "19bc2457-da54-45e0-a4d9-6cb98347d579"
      },
      "source": [
        "predict(\"everyone should get vaccinated as a remedy\")"
      ],
      "execution_count": 165,
      "outputs": [
        {
          "output_type": "execute_result",
          "data": {
            "text/plain": [
              "{'elapsed_time': 0.07025551795959473,\n",
              " 'label': 'Neutral',\n",
              " 'score': 0.3132949769496918}"
            ]
          },
          "metadata": {
            "tags": []
          },
          "execution_count": 165
        }
      ]
    },
    {
      "cell_type": "markdown",
      "metadata": {
        "id": "9RrAXXJXPcA_"
      },
      "source": [
        "Sentiment Analysis Challenge No. 1: Sarcasm Detection\n",
        "----\n",
        "Model is giving neutral results to sarcasm."
      ]
    },
    {
      "cell_type": "code",
      "metadata": {
        "colab": {
          "base_uri": "https://localhost:8080/"
        },
        "id": "VKjx5pLVGwoQ",
        "outputId": "6470b46a-cbf9-4440-c705-d37b61d3261a"
      },
      "source": [
        "predict(\"This phone has an awesome battery back-up of 2 hours.\") //sarcastic"
      ],
      "execution_count": 176,
      "outputs": [
        {
          "output_type": "execute_result",
          "data": {
            "text/plain": [
              "{'elapsed_time': 0.07855463027954102,\n",
              " 'label': 'Neutral',\n",
              " 'score': 0.25207725167274475}"
            ]
          },
          "metadata": {
            "tags": []
          },
          "execution_count": 176
        }
      ]
    },
    {
      "cell_type": "code",
      "metadata": {
        "colab": {
          "base_uri": "https://localhost:8080/"
        },
        "id": "0ysu7KElNFkL",
        "outputId": "e025f731-4fe3-49f1-cd9f-ece419e4deee"
      },
      "source": [
        "predict(\"It's -25 outside and I am so hot.\")  //sarcastic"
      ],
      "execution_count": 177,
      "outputs": [
        {
          "output_type": "execute_result",
          "data": {
            "text/plain": [
              "{'elapsed_time': 0.06573247909545898,\n",
              " 'label': 'Neutral',\n",
              " 'score': 0.2727428674697876}"
            ]
          },
          "metadata": {
            "tags": []
          },
          "execution_count": 177
        }
      ]
    },
    {
      "cell_type": "code",
      "metadata": {
        "colab": {
          "base_uri": "https://localhost:8080/"
        },
        "id": "ppF_kgAhNSm6",
        "outputId": "406ea869-89ef-40bd-f962-42d2cb858f4f"
      },
      "source": [
        "predict(\"We drove so slowly---only 160 km/h.\") //sarcastic"
      ],
      "execution_count": 178,
      "outputs": [
        {
          "output_type": "execute_result",
          "data": {
            "text/plain": [
              "{'elapsed_time': 0.062149763107299805,\n",
              " 'label': 'Neutral',\n",
              " 'score': 0.6361349821090698}"
            ]
          },
          "metadata": {
            "tags": []
          },
          "execution_count": 178
        }
      ]
    },
    {
      "cell_type": "markdown",
      "metadata": {
        "id": "iSA3NE-tPPTu"
      },
      "source": [
        "Sentiment Analysis Challenge No. 2: Negation Detection\n",
        "---\n",
        "Instead of negative or neutral, model gives positive for negation. Drawback found."
      ]
    },
    {
      "cell_type": "code",
      "metadata": {
        "colab": {
          "base_uri": "https://localhost:8080/"
        },
        "id": "y-S96DkSNCao",
        "outputId": "b6e586e6-25d5-49fe-d336-611e6f4a7d52"
      },
      "source": [
        "predict(\"with this act, it will be his first and last movie\")       #drawback with negation\n",
        "#—it carries a negative sentiment, but no negative words are used."
      ],
      "execution_count": 179,
      "outputs": [
        {
          "output_type": "execute_result",
          "data": {
            "text/plain": [
              "{'elapsed_time': 0.06988000869750977,\n",
              " 'label': 'Positive',\n",
              " 'score': 0.7589401602745056}"
            ]
          },
          "metadata": {
            "tags": []
          },
          "execution_count": 179
        }
      ]
    },
    {
      "cell_type": "markdown",
      "metadata": {
        "id": "izL46SxWOEvQ"
      },
      "source": [
        "Sentiment Analysis Challenge No. 3: Word Ambiguity\n",
        "---\n",
        "These two examples show how context affects opinion word sentiment. In the first example, the word polarity of “unpredictable” is predicted as positive. In the second, the same word’s polarity is negative.\n",
        "\n",
        "However, model gives neutral for both, still acceptable."
      ]
    },
    {
      "cell_type": "code",
      "metadata": {
        "colab": {
          "base_uri": "https://localhost:8080/"
        },
        "id": "ee9nwi-ENpOo",
        "outputId": "332c43ef-8c7a-4c56-dbbf-13a5b8f03cb7"
      },
      "source": [
        "predict(\"The story is unpredictable.\")"
      ],
      "execution_count": 181,
      "outputs": [
        {
          "output_type": "execute_result",
          "data": {
            "text/plain": [
              "{'elapsed_time': 0.06344747543334961,\n",
              " 'label': 'Neutral',\n",
              " 'score': 0.4598727524280548}"
            ]
          },
          "metadata": {
            "tags": []
          },
          "execution_count": 181
        }
      ]
    },
    {
      "cell_type": "code",
      "metadata": {
        "colab": {
          "base_uri": "https://localhost:8080/"
        },
        "id": "7XSio3huONT9",
        "outputId": "64e17cc2-cd02-4e83-8418-6a3d0643a341"
      },
      "source": [
        "predict(\"The steering wheel is unpredictable.\")"
      ],
      "execution_count": 182,
      "outputs": [
        {
          "output_type": "execute_result",
          "data": {
            "text/plain": [
              "{'elapsed_time': 0.06110525131225586,\n",
              " 'label': 'Neutral',\n",
              " 'score': 0.25072094798088074}"
            ]
          },
          "metadata": {
            "tags": []
          },
          "execution_count": 182
        }
      ]
    },
    {
      "cell_type": "markdown",
      "metadata": {
        "id": "-cRl65vqOsR1"
      },
      "source": [
        "Sentiment Analysis Challenge No. 4: Multipolarity\n",
        "---\n",
        "Let’s consider an example which consists of multiple polarities: “The audio quality of my new laptop is so cool but the display colors are not too good.”\n",
        "\n",
        "#drawback"
      ]
    },
    {
      "cell_type": "code",
      "metadata": {
        "colab": {
          "base_uri": "https://localhost:8080/"
        },
        "id": "ick3OCNbORlC",
        "outputId": "6c3155ba-0b8a-4ab4-8919-ee743db1e2b5"
      },
      "source": [
        "predict(\"The audio quality of my new laptop is so cool but the display colors are not too good.\")"
      ],
      "execution_count": 183,
      "outputs": [
        {
          "output_type": "execute_result",
          "data": {
            "text/plain": [
              "{'elapsed_time': 0.06482243537902832,\n",
              " 'label': 'Positive',\n",
              " 'score': 0.8220648765563965}"
            ]
          },
          "metadata": {
            "tags": []
          },
          "execution_count": 183
        }
      ]
    },
    {
      "cell_type": "code",
      "metadata": {
        "id": "PoRlLBuWO_ij"
      },
      "source": [
        ""
      ],
      "execution_count": null,
      "outputs": []
    }
  ]
}